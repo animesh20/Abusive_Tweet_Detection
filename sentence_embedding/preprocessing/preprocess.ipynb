{
 "cells": [
  {
   "cell_type": "code",
   "execution_count": 11,
   "metadata": {},
   "outputs": [],
   "source": [
    "import sys"
   ]
  },
  {
   "cell_type": "code",
   "execution_count": 12,
   "metadata": {},
   "outputs": [],
   "source": [
    "corpusfile = open(\"tokenized_tweets.txt\")\n",
    "sent = open(\"sentences.txt\",\"w\")\n",
    "lab = open(\"labels.txt\",\"w\")"
   ]
  },
  {
   "cell_type": "code",
   "execution_count": 13,
   "metadata": {},
   "outputs": [],
   "source": [
    "for line in corpusfile:\n",
    "    parts = line.strip().split(\" \")\n",
    "    sen = \" \".join(parts[:-1])\n",
    "    sent.write(\"%s\\n\" % (sen))\n",
    "    #racism:0, sexism:1, none:2\n",
    "    if parts[-1]=='racism':\n",
    "        lab.write(\"%i\\n\" % (0))\n",
    "    elif parts[-1]=='sexism':\n",
    "        lab.write(\"%i\\n\" % (1))\n",
    "    elif parts[-1]=='none':\n",
    "        lab.write(\"%i\\n\" % (2))\n",
    "    \n",
    "sent.close()\n",
    "lab.close()"
   ]
  },
  {
   "cell_type": "code",
   "execution_count": null,
   "metadata": {},
   "outputs": [],
   "source": []
  }
 ],
 "metadata": {
  "kernelspec": {
   "display_name": "Python 2",
   "language": "python",
   "name": "python2"
  },
  "language_info": {
   "codemirror_mode": {
    "name": "ipython",
    "version": 2
   },
   "file_extension": ".py",
   "mimetype": "text/x-python",
   "name": "python",
   "nbconvert_exporter": "python",
   "pygments_lexer": "ipython2",
   "version": "2.7.12"
  }
 },
 "nbformat": 4,
 "nbformat_minor": 2
}
